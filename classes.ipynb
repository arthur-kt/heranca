{
 "cells": [
  {
   "cell_type": "code",
   "execution_count": 32,
   "id": "9f0450fa",
   "metadata": {},
   "outputs": [],
   "source": [
    "class Humano:\n",
    "    def __init__ (self, peso, altura, idade, sexo, nome):\n",
    "        self.peso=peso\n",
    "        self.altura=altura\n",
    "        self.idade=idade\n",
    "        self.sexo=sexo\n",
    "        self.nome=nome\n",
    "    def andar(self):\n",
    "        print(f'{self.nome} está andando!')\n",
    "        \n",
    "stephen = Humano(367,0.9,99,\"masculino\",\"Stephen\")"
   ]
  },
  {
   "cell_type": "code",
   "execution_count": 49,
   "id": "8f936f99",
   "metadata": {},
   "outputs": [
    {
     "name": "stdout",
     "output_type": "stream",
     "text": [
      "Stephen é do sexo masculino\n"
     ]
    }
   ],
   "source": [
    "print(f'{stephen.nome} é do sexo {stephen.sexo}')"
   ]
  },
  {
   "cell_type": "code",
   "execution_count": 30,
   "id": "31dba7a4",
   "metadata": {},
   "outputs": [
    {
     "name": "stdout",
     "output_type": "stream",
     "text": [
      "Stephen está andando!\n"
     ]
    }
   ],
   "source": [
    "stephen.andar()"
   ]
  },
  {
   "cell_type": "code",
   "execution_count": 41,
   "id": "673e3a45",
   "metadata": {},
   "outputs": [],
   "source": [
    "# Criando a classe ação\n",
    "\n",
    "class Acao:\n",
    "    def __init__ (self, nome_empresa, codigo, valor_patrimonial, preco_mercado):\n",
    "        self.nome_empresa = nome_empresa\n",
    "        self.codigo = codigo\n",
    "        self.valor_patrimonial = valor_patrimonial\n",
    "        self.preco_mercado = preco_mercado        "
   ]
  },
  {
   "cell_type": "code",
   "execution_count": 48,
   "id": "a2dbd748",
   "metadata": {},
   "outputs": [],
   "source": [
    "class Investidor:\n",
    "    def __init__ (self, cpf, saldo, carteira):\n",
    "        self.cpf = cpf\n",
    "        self.saldo = saldo\n",
    "        self.carteira = carteira\n",
    "    def comprar_acao1(self, acao1, quantidade):\n",
    "        self.carteira[0] += quantidade"
   ]
  },
  {
   "cell_type": "code",
   "execution_count": 43,
   "id": "1fba4c49",
   "metadata": {},
   "outputs": [],
   "source": [
    "class Carteira:\n",
    "    def __init__ (self, lista_acao):\n",
    "        self.lista_acao = lista_acao"
   ]
  },
  {
   "cell_type": "code",
   "execution_count": 53,
   "id": "1bc822e1",
   "metadata": {},
   "outputs": [
    {
     "name": "stdout",
     "output_type": "stream",
     "text": [
      "Estou trabalhando!\n"
     ]
    }
   ],
   "source": [
    "class Empregado:\n",
    "    def __init__ (self, cpf, nome):\n",
    "        self.cpf = cpf\n",
    "        self.nome = nome\n",
    "    def trabalhar(self):\n",
    "        print(\"Estou trabalhando!\")\n",
    "        \n",
    "pedro = Empregado(\"86734328990\", \"Pedro\")\n",
    "\n",
    "pedro.trabalhar()"
   ]
  },
  {
   "cell_type": "code",
   "execution_count": 69,
   "id": "61e2ed87",
   "metadata": {},
   "outputs": [
    {
     "ename": "NameError",
     "evalue": "name 'cpf' is not defined",
     "output_type": "error",
     "traceback": [
      "\u001b[1;31m---------------------------------------------------------------------------\u001b[0m",
      "\u001b[1;31mNameError\u001b[0m                                 Traceback (most recent call last)",
      "Cell \u001b[1;32mIn[69], line 9\u001b[0m\n\u001b[0;32m      6\u001b[0m     \u001b[38;5;28;01mdef\u001b[39;00m \u001b[38;5;21mtrabalhar\u001b[39m(\u001b[38;5;28mself\u001b[39m):\n\u001b[0;32m      7\u001b[0m         \u001b[38;5;28mprint\u001b[39m(\u001b[38;5;124m\"\u001b[39m\u001b[38;5;124mEstou coordenando.\u001b[39m\u001b[38;5;124m\"\u001b[39m)\n\u001b[1;32m----> 9\u001b[0m joao \u001b[38;5;241m=\u001b[39m Gerente(\u001b[43mcpf\u001b[49m, nome, \u001b[38;5;124m\"\u001b[39m\u001b[38;5;124m\"\u001b[39m)\n\u001b[0;32m     11\u001b[0m pedro\u001b[38;5;241m.\u001b[39mtrabalhar()\n",
      "\u001b[1;31mNameError\u001b[0m: name 'cpf' is not defined"
     ]
    }
   ],
   "source": [
    "class Gerente(Empregado):\n",
    "    def __init__ (self, cpf, nome, nivel):\n",
    "        super.__init__(cpf, nome)\n",
    "        self.nivel = nivel\n",
    "        \n",
    "    def trabalhar(self):\n",
    "        print(\"Estou coordenando.\")\n",
    "        \n",
    "joao = Gerente(cpf, nome, \"\")\n",
    "\n",
    "pedro.trabalhar()"
   ]
  },
  {
   "cell_type": "code",
   "execution_count": 59,
   "id": "4fd03e7f",
   "metadata": {},
   "outputs": [],
   "source": [
    "class Analista(Empregado):\n",
    "    def __init__ (self, cpf, nome, nivel):\n",
    "        super.__init__(cpf, nome)\n",
    "        self.nivel = nivel\n",
    "        \n",
    "    def trabalhar(self):\n",
    "        print(\"Estou Analisando.\")\n"
   ]
  },
  {
   "cell_type": "code",
   "execution_count": null,
   "id": "073aa151",
   "metadata": {},
   "outputs": [],
   "source": []
  }
 ],
 "metadata": {
  "kernelspec": {
   "display_name": "Python 3 (ipykernel)",
   "language": "python",
   "name": "python3"
  },
  "language_info": {
   "codemirror_mode": {
    "name": "ipython",
    "version": 3
   },
   "file_extension": ".py",
   "mimetype": "text/x-python",
   "name": "python",
   "nbconvert_exporter": "python",
   "pygments_lexer": "ipython3",
   "version": "3.10.9"
  }
 },
 "nbformat": 4,
 "nbformat_minor": 5
}
